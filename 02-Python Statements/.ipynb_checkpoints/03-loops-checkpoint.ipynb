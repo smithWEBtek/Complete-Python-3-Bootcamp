{
 "cells": [
  {
   "cell_type": "code",
   "execution_count": 27,
   "metadata": {},
   "outputs": [
    {
     "name": "stdout",
     "output_type": "stream",
     "text": [
      "odd\n",
      "2\n",
      "odd\n",
      "4\n",
      "odd\n",
      "6\n",
      "odd\n",
      "8\n",
      "odd\n",
      "10\n",
      "odd\n",
      "12\n",
      "odd\n",
      "14\n",
      "odd\n",
      "16\n",
      "odd\n",
      "18\n",
      "odd\n",
      "20\n",
      "evens_count:  10\n"
     ]
    }
   ],
   "source": [
    "letters = \"abcdefghijklmnopqrstuvwxyz\"\n",
    "nums = [1, 2, 3, 4, 5, 6, 7, 8, 9, 10, 11, 12, 13, 14, 15, 16, 17, 18, 19, 20]\n",
    "pets = ['cat', 'dog', 'bird']\n",
    "users = [\n",
    "    {'name': 'bob', 'age': 44},\n",
    "    {'name': 'sue', 'age': 34},\n",
    "    {'name': 'bill', 'age': 24},\n",
    "    {'name': 'jane', 'age': 29}\n",
    "]\n",
    "\n",
    "evens_count = 0 \n",
    "for n in nums:\n",
    "    if n % 2 == 0:\n",
    "        print(n)\n",
    "        evens_count += 1\n",
    "    else:\n",
    "        print('odd')\n",
    "    \n",
    "print(\"evens_count: \", evens_count)"
   ]
  },
  {
   "cell_type": "code",
   "execution_count": null,
   "metadata": {},
   "outputs": [],
   "source": []
  }
 ],
 "metadata": {
  "kernelspec": {
   "display_name": "Python 3",
   "language": "python",
   "name": "python3"
  },
  "language_info": {
   "codemirror_mode": {
    "name": "ipython",
    "version": 3
   },
   "file_extension": ".py",
   "mimetype": "text/x-python",
   "name": "python",
   "nbconvert_exporter": "python",
   "pygments_lexer": "ipython3",
   "version": "3.7.1"
  }
 },
 "nbformat": 4,
 "nbformat_minor": 2
}
