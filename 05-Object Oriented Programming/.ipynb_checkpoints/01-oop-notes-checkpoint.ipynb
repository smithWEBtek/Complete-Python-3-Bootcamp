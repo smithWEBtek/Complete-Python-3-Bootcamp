{
 "cells": [
  {
   "cell_type": "code",
   "execution_count": 17,
   "metadata": {},
   "outputs": [
    {
     "name": "stdout",
     "output_type": "stream",
     "text": [
      "Sparky\n",
      "Shepherd\n",
      "mammal\n",
      "WOOF! my name is: SparkyWOOF! my name is: SparkyWOOF! my name is: Sparky\n",
      "None\n"
     ]
    }
   ],
   "source": [
    "class Dog():\n",
    "\n",
    "    species = 'mammal'\n",
    "\n",
    "    def __init__(self, name, breed):\n",
    "        self.name = name\n",
    "        self.breed = breed\n",
    "\n",
    "    def bark(self, number):\n",
    "        print(\"WOOF! my name is: {n} \\n\".format(n=self.name) * number)\n",
    "\n",
    "\n",
    "dog1 = Dog('Sparky', 'Shepherd')\n",
    "\n",
    "print(dog1.name)\n",
    "print(dog1.breed)\n",
    "print(dog1.species)\n",
    "print(dog1.bark(3))"
   ]
  },
  {
   "cell_type": "code",
   "execution_count": null,
   "metadata": {},
   "outputs": [],
   "source": []
  }
 ],
 "metadata": {
  "kernelspec": {
   "display_name": "Python 3",
   "language": "python",
   "name": "python3"
  },
  "language_info": {
   "codemirror_mode": {
    "name": "ipython",
    "version": 3
   },
   "file_extension": ".py",
   "mimetype": "text/x-python",
   "name": "python",
   "nbconvert_exporter": "python",
   "pygments_lexer": "ipython3",
   "version": "3.7.1"
  }
 },
 "nbformat": 4,
 "nbformat_minor": 2
}
